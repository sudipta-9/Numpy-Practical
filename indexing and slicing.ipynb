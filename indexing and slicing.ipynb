{
 "cells": [
  {
   "cell_type": "markdown",
   "id": "46f90ab7",
   "metadata": {},
   "source": [
    "# Indexing"
   ]
  },
  {
   "cell_type": "code",
   "execution_count": 6,
   "id": "a9e4b9da",
   "metadata": {},
   "outputs": [],
   "source": [
    "import numpy as np"
   ]
  },
  {
   "cell_type": "code",
   "execution_count": 8,
   "id": "473d5b2b",
   "metadata": {},
   "outputs": [
    {
     "name": "stdout",
     "output_type": "stream",
     "text": [
      "2\n",
      "2\n"
     ]
    }
   ],
   "source": [
    "var = np.array([1,2,3,4])\n",
    "\n",
    "print(var[1])\n",
    "print(var[-3])"
   ]
  },
  {
   "cell_type": "code",
   "execution_count": 9,
   "id": "b60d8067",
   "metadata": {},
   "outputs": [
    {
     "name": "stdout",
     "output_type": "stream",
     "text": [
      "2\n"
     ]
    }
   ],
   "source": [
    "var1 = np.array([[1,2,3,4],[5,6,7,8]])\n",
    "\n",
    "print(var1[0,1])"
   ]
  },
  {
   "cell_type": "code",
   "execution_count": 10,
   "id": "7428a2f9",
   "metadata": {},
   "outputs": [
    {
     "name": "stdout",
     "output_type": "stream",
     "text": [
      "6\n"
     ]
    }
   ],
   "source": [
    "var2 = np.array([[[1,2],[6,7]]])\n",
    "\n",
    "print(var2[0,1,0])"
   ]
  },
  {
   "cell_type": "markdown",
   "id": "23bedcc0",
   "metadata": {},
   "source": [
    "# Slicing"
   ]
  },
  {
   "cell_type": "code",
   "execution_count": 11,
   "id": "e47cd004",
   "metadata": {},
   "outputs": [],
   "source": [
    "import numpy as np"
   ]
  },
  {
   "cell_type": "code",
   "execution_count": 21,
   "id": "0fb5cc3a",
   "metadata": {},
   "outputs": [
    {
     "name": "stdout",
     "output_type": "stream",
     "text": [
      "[9 8 7 6 5 4 3]\n",
      "\n",
      "9 to 5 : [8 7 6 5]\n",
      "\n",
      "9 to End : [8 7 6 5 4 3]\n",
      "\n",
      "Start to 5 : [9 8 7 6 5]\n",
      "\n",
      "Stop : [9 7 5 3]\n",
      "\n",
      "Stop : [8 6]\n"
     ]
    }
   ],
   "source": [
    "var = np.array([9,8,7,6,5,4,3])    #Just see on the index number\n",
    "\n",
    "print(var)\n",
    "print()\n",
    "print(\"9 to 5 :\",var[1:5])\n",
    "print()\n",
    "print(\"9 to End :\",var[1:])\n",
    "print()\n",
    "print(\"Start to 5 :\",var[:5])\n",
    "print()\n",
    "print(\"Stop :\",var[::2])\n",
    "print()\n",
    "print(\"Stop :\",var[1:5:2])"
   ]
  },
  {
   "cell_type": "code",
   "execution_count": 25,
   "id": "f7444392",
   "metadata": {},
   "outputs": [
    {
     "name": "stdout",
     "output_type": "stream",
     "text": [
      "[[ 1  2  3 10]\n",
      " [ 4  5  6 11]\n",
      " [ 7  8  9 12]]\n",
      "\n",
      "5 to 11 : [ 5  6 11]\n"
     ]
    }
   ],
   "source": [
    "var1 = np.array([[1,2,3,10],[4,5,6,11],[7,8,9,12]])\n",
    "\n",
    "print(var1)\n",
    "print()\n",
    "print(\"5 to 11 :\",var1[1,1:])"
   ]
  },
  {
   "cell_type": "code",
   "execution_count": null,
   "id": "4951723e",
   "metadata": {},
   "outputs": [],
   "source": []
  }
 ],
 "metadata": {
  "kernelspec": {
   "display_name": "Python 3 (ipykernel)",
   "language": "python",
   "name": "python3"
  },
  "language_info": {
   "codemirror_mode": {
    "name": "ipython",
    "version": 3
   },
   "file_extension": ".py",
   "mimetype": "text/x-python",
   "name": "python",
   "nbconvert_exporter": "python",
   "pygments_lexer": "ipython3",
   "version": "3.11.7"
  }
 },
 "nbformat": 4,
 "nbformat_minor": 5
}
