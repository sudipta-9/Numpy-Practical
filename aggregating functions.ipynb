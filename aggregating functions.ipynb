{
 "cells": [
  {
   "cell_type": "markdown",
   "id": "f58cd293",
   "metadata": {},
   "source": [
    "# Aggregating Function"
   ]
  },
  {
   "cell_type": "code",
   "execution_count": 6,
   "id": "ef50f78c",
   "metadata": {},
   "outputs": [],
   "source": [
    "import numpy as np"
   ]
  },
  {
   "cell_type": "code",
   "execution_count": 11,
   "id": "4b96fc64",
   "metadata": {},
   "outputs": [
    {
     "name": "stdout",
     "output_type": "stream",
     "text": [
      "150\n",
      "10\n",
      "50\n",
      "5\n",
      "30.0\n",
      "[ 10  30  60 100 150]\n",
      "[      10      200     6000   240000 12000000]\n"
     ]
    }
   ],
   "source": [
    "var = np.array([10,20,30,40,50])\n",
    "print(np.sum(var))\n",
    "print(np.min(var))\n",
    "print(np.max(var))\n",
    "print(np.size(var))\n",
    "print(np.mean(var))\n",
    "print(np.cumsum(var))\n",
    "print(np.cumprod(var))"
   ]
  },
  {
   "cell_type": "code",
   "execution_count": null,
   "id": "cbb2d46e",
   "metadata": {},
   "outputs": [],
   "source": []
  }
 ],
 "metadata": {
  "kernelspec": {
   "display_name": "Python 3 (ipykernel)",
   "language": "python",
   "name": "python3"
  },
  "language_info": {
   "codemirror_mode": {
    "name": "ipython",
    "version": 3
   },
   "file_extension": ".py",
   "mimetype": "text/x-python",
   "name": "python",
   "nbconvert_exporter": "python",
   "pygments_lexer": "ipython3",
   "version": "3.11.7"
  }
 },
 "nbformat": 4,
 "nbformat_minor": 5
}
