{
 "cells": [
  {
   "cell_type": "markdown",
   "id": "0fe43159",
   "metadata": {},
   "source": [
    "# Transpose Matrix"
   ]
  },
  {
   "cell_type": "code",
   "execution_count": 5,
   "id": "14f92e47",
   "metadata": {},
   "outputs": [
    {
     "name": "stdout",
     "output_type": "stream",
     "text": [
      "[[1 2 3]\n",
      " [4 5 6]]\n",
      "\n",
      "[[1 4]\n",
      " [2 5]\n",
      " [3 6]]\n",
      "\n",
      "[[1 4]\n",
      " [2 5]\n",
      " [3 6]]\n"
     ]
    }
   ],
   "source": [
    "import numpy as np\n",
    "var = np.matrix([[1,2,3],[4,5,6]])\n",
    "print(var)\n",
    "print()\n",
    "print(np.transpose(var))\n",
    "print()\n",
    "print(var.T)"
   ]
  },
  {
   "cell_type": "markdown",
   "id": "b21ddd7d",
   "metadata": {},
   "source": [
    "# Swapaxes Matrix"
   ]
  },
  {
   "cell_type": "code",
   "execution_count": 8,
   "id": "295134d9",
   "metadata": {},
   "outputs": [
    {
     "name": "stdout",
     "output_type": "stream",
     "text": [
      "[[1 2 3]\n",
      " [4 5 6]]\n",
      "\n",
      "[[1 4]\n",
      " [2 5]\n",
      " [3 6]]\n"
     ]
    }
   ],
   "source": [
    "import numpy as np\n",
    "var = np.matrix([[1,2,3],[4,5,6]])\n",
    "print(var)\n",
    "print()\n",
    "print(np.swapaxes(var,0,1))"
   ]
  },
  {
   "cell_type": "markdown",
   "id": "3deaf910",
   "metadata": {},
   "source": [
    "# Inverse Matrix"
   ]
  },
  {
   "cell_type": "code",
   "execution_count": 11,
   "id": "92a0a644",
   "metadata": {},
   "outputs": [
    {
     "name": "stdout",
     "output_type": "stream",
     "text": [
      "[[1 2]\n",
      " [3 4]]\n",
      "\n",
      "[[-2.   1. ]\n",
      " [ 1.5 -0.5]]\n"
     ]
    }
   ],
   "source": [
    "import numpy as np\n",
    "var = np.matrix([[1,2],[3,4]])\n",
    "print(var)\n",
    "print()\n",
    "print(np.linalg.inv(var))"
   ]
  },
  {
   "cell_type": "markdown",
   "id": "8895b5ad",
   "metadata": {},
   "source": [
    "# Power Matrix"
   ]
  },
  {
   "cell_type": "code",
   "execution_count": 14,
   "id": "1337a292",
   "metadata": {},
   "outputs": [
    {
     "name": "stdout",
     "output_type": "stream",
     "text": [
      "[[1 2]\n",
      " [3 4]]\n",
      "\n",
      "[[1 0]\n",
      " [0 1]]\n",
      "\n",
      "[[ 7 10]\n",
      " [15 22]]\n",
      "\n",
      "[[ 5.5  -2.5 ]\n",
      " [-3.75  1.75]]\n"
     ]
    }
   ],
   "source": [
    "import numpy as np\n",
    "var = np.matrix([[1,2],[3,4]])\n",
    "print(var)\n",
    "print()\n",
    "print(np.linalg.matrix_power(var,0))\n",
    "print()\n",
    "print(np.linalg.matrix_power(var,2))\n",
    "print()\n",
    "print(np.linalg.matrix_power(var,-2))"
   ]
  },
  {
   "cell_type": "markdown",
   "id": "423eb2b7",
   "metadata": {},
   "source": [
    "# Determinant Matrix"
   ]
  },
  {
   "cell_type": "code",
   "execution_count": 17,
   "id": "d29385c9",
   "metadata": {},
   "outputs": [
    {
     "name": "stdout",
     "output_type": "stream",
     "text": [
      "[[1 2]\n",
      " [3 4]]\n",
      "\n",
      "-2.0000000000000004\n"
     ]
    }
   ],
   "source": [
    "import numpy as np\n",
    "var = np.matrix([[1,2],[3,4]])\n",
    "print(var)\n",
    "print()\n",
    "print(np.linalg.det(var))"
   ]
  },
  {
   "cell_type": "code",
   "execution_count": 22,
   "id": "6197a8bb",
   "metadata": {},
   "outputs": [
    {
     "name": "stdout",
     "output_type": "stream",
     "text": [
      "[[1 2 3]\n",
      " [3 4 3]\n",
      " [1 2 3]]\n",
      "\n",
      "0.0\n"
     ]
    }
   ],
   "source": [
    "var1 = np.matrix([[1,2,3],[3,4,3],[1,2,3]])\n",
    "print(var1)\n",
    "print()\n",
    "print(np.linalg.det(var1)) \n"
   ]
  },
  {
   "cell_type": "code",
   "execution_count": null,
   "id": "cdbbdc90",
   "metadata": {},
   "outputs": [],
   "source": []
  }
 ],
 "metadata": {
  "kernelspec": {
   "display_name": "Python 3 (ipykernel)",
   "language": "python",
   "name": "python3"
  },
  "language_info": {
   "codemirror_mode": {
    "name": "ipython",
    "version": 3
   },
   "file_extension": ".py",
   "mimetype": "text/x-python",
   "name": "python",
   "nbconvert_exporter": "python",
   "pygments_lexer": "ipython3",
   "version": "3.11.7"
  }
 },
 "nbformat": 4,
 "nbformat_minor": 5
}
