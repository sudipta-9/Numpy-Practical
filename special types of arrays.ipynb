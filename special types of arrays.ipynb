{
 "cells": [
  {
   "cell_type": "markdown",
   "id": "0f8174a4",
   "metadata": {},
   "source": [
    "# Array filled with zeros"
   ]
  },
  {
   "cell_type": "code",
   "execution_count": 3,
   "id": "af396984",
   "metadata": {},
   "outputs": [
    {
     "name": "stdout",
     "output_type": "stream",
     "text": [
      "[0. 0. 0. 0.]\n",
      "\n",
      "[[0. 0. 0. 0.]\n",
      " [0. 0. 0. 0.]\n",
      " [0. 0. 0. 0.]]\n"
     ]
    }
   ],
   "source": [
    "import numpy as np\n",
    "\n",
    "arr_zero = np.zeros(4)\n",
    "arr_zero1 = np.zeros((3,4))\n",
    "\n",
    "print(arr_zero)\n",
    "print()\n",
    "print(arr_zero1)"
   ]
  },
  {
   "cell_type": "markdown",
   "id": "80ae7d7b",
   "metadata": {},
   "source": [
    "# Array filled with ones"
   ]
  },
  {
   "cell_type": "code",
   "execution_count": 4,
   "id": "c3e21bee",
   "metadata": {},
   "outputs": [
    {
     "name": "stdout",
     "output_type": "stream",
     "text": [
      "[1. 1. 1. 1.]\n",
      "\n",
      "[[1. 1. 1. 1.]\n",
      " [1. 1. 1. 1.]\n",
      " [1. 1. 1. 1.]]\n"
     ]
    }
   ],
   "source": [
    "import numpy as np\n",
    "\n",
    "arr_one = np.ones(4)\n",
    "arr_one1 = np.ones((3,4))\n",
    "\n",
    "print(arr_one)\n",
    "print()\n",
    "print(arr_one1)"
   ]
  },
  {
   "cell_type": "markdown",
   "id": "aca24523",
   "metadata": {},
   "source": [
    "# Create an empty array"
   ]
  },
  {
   "cell_type": "code",
   "execution_count": 5,
   "id": "cfc7f202",
   "metadata": {},
   "outputs": [
    {
     "name": "stdout",
     "output_type": "stream",
     "text": [
      "[1. 1. 1. 1.]\n"
     ]
    }
   ],
   "source": [
    "import numpy as np\n",
    "\n",
    "arr_em = np.empty(4)\n",
    "\n",
    "print(arr_em)"
   ]
  },
  {
   "cell_type": "markdown",
   "id": "aa9cfb04",
   "metadata": {},
   "source": [
    "# Create an array with a range of elements"
   ]
  },
  {
   "cell_type": "code",
   "execution_count": 7,
   "id": "5ccaa3a7",
   "metadata": {},
   "outputs": [
    {
     "name": "stdout",
     "output_type": "stream",
     "text": [
      "[0 1 2 3]\n"
     ]
    }
   ],
   "source": [
    "import numpy as np\n",
    "\n",
    "arr_ren = np.arange(4)\n",
    "\n",
    "print(arr_ren)"
   ]
  },
  {
   "cell_type": "markdown",
   "id": "3f3352a4",
   "metadata": {},
   "source": [
    "# Create an array diagonal element filled with 1's"
   ]
  },
  {
   "cell_type": "code",
   "execution_count": 9,
   "id": "182d13d9",
   "metadata": {},
   "outputs": [
    {
     "name": "stdout",
     "output_type": "stream",
     "text": [
      "[[1. 0.]\n",
      " [0. 1.]]\n"
     ]
    }
   ],
   "source": [
    "import numpy as np\n",
    "\n",
    "arr_dia = np.eye(2)\n",
    "\n",
    "print(arr_dia)"
   ]
  },
  {
   "cell_type": "markdown",
   "id": "63cfbe41",
   "metadata": {},
   "source": [
    "# Create an array with values that are spaced with linearly in a specified interval"
   ]
  },
  {
   "cell_type": "code",
   "execution_count": 11,
   "id": "8a3387ba",
   "metadata": {},
   "outputs": [
    {
     "name": "stdout",
     "output_type": "stream",
     "text": [
      "[ 0.  5. 10. 15. 20.]\n"
     ]
    }
   ],
   "source": [
    "import numpy as np\n",
    "\n",
    "arr_lin = np.linspace(0,20,num=5)\n",
    "\n",
    "print(arr_lin)"
   ]
  },
  {
   "cell_type": "code",
   "execution_count": null,
   "id": "ca3c530e",
   "metadata": {},
   "outputs": [],
   "source": []
  }
 ],
 "metadata": {
  "kernelspec": {
   "display_name": "Python 3 (ipykernel)",
   "language": "python",
   "name": "python3"
  },
  "language_info": {
   "codemirror_mode": {
    "name": "ipython",
    "version": 3
   },
   "file_extension": ".py",
   "mimetype": "text/x-python",
   "name": "python",
   "nbconvert_exporter": "python",
   "pygments_lexer": "ipython3",
   "version": "3.11.7"
  }
 },
 "nbformat": 4,
 "nbformat_minor": 5
}
