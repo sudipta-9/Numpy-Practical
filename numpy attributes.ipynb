{
 "cells": [
  {
   "cell_type": "markdown",
   "id": "b56f941f",
   "metadata": {},
   "source": [
    "# Numpy Attributes"
   ]
  },
  {
   "cell_type": "code",
   "execution_count": 1,
   "id": "9efc4d0f",
   "metadata": {},
   "outputs": [],
   "source": [
    "import numpy as np"
   ]
  },
  {
   "cell_type": "code",
   "execution_count": 5,
   "id": "b4fb3191",
   "metadata": {},
   "outputs": [
    {
     "name": "stdout",
     "output_type": "stream",
     "text": [
      "(3, 3)\n",
      "9\n",
      "2\n",
      "int32\n"
     ]
    }
   ],
   "source": [
    "var = np.array([[1,2,3],[4,5,6],[7,8,9]])\n",
    "print(np.shape(var))\n",
    "print(np.size(var))\n",
    "print(np.ndim(var))\n",
    "print(var.dtype)"
   ]
  },
  {
   "cell_type": "code",
   "execution_count": null,
   "id": "92cb9949",
   "metadata": {},
   "outputs": [],
   "source": []
  }
 ],
 "metadata": {
  "kernelspec": {
   "display_name": "Python 3 (ipykernel)",
   "language": "python",
   "name": "python3"
  },
  "language_info": {
   "codemirror_mode": {
    "name": "ipython",
    "version": 3
   },
   "file_extension": ".py",
   "mimetype": "text/x-python",
   "name": "python",
   "nbconvert_exporter": "python",
   "pygments_lexer": "ipython3",
   "version": "3.11.7"
  }
 },
 "nbformat": 4,
 "nbformat_minor": 5
}
