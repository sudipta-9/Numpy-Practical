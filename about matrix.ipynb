{
 "cells": [
  {
   "cell_type": "markdown",
   "id": "40260db0",
   "metadata": {},
   "source": [
    "# Create a matrix"
   ]
  },
  {
   "cell_type": "code",
   "execution_count": 24,
   "id": "0eb83793",
   "metadata": {},
   "outputs": [],
   "source": [
    "import numpy as np"
   ]
  },
  {
   "cell_type": "code",
   "execution_count": 25,
   "id": "d0ec4ad6",
   "metadata": {},
   "outputs": [
    {
     "name": "stdout",
     "output_type": "stream",
     "text": [
      "[[1 2 3]\n",
      " [4 5 6]]\n"
     ]
    }
   ],
   "source": [
    "var = np.matrix([[1,2,3],[4,5,6]])\n",
    "print(var)"
   ]
  },
  {
   "cell_type": "markdown",
   "id": "1d5fc92b",
   "metadata": {},
   "source": [
    "# Matrix Addition"
   ]
  },
  {
   "cell_type": "code",
   "execution_count": 26,
   "id": "4471ce0f",
   "metadata": {},
   "outputs": [
    {
     "name": "stdout",
     "output_type": "stream",
     "text": [
      "[[ 2  4  6]\n",
      " [ 8 10 12]]\n"
     ]
    }
   ],
   "source": [
    "var1 = np.matrix([[1,2,3],[4,5,6]])\n",
    "var2 = np.matrix([[1,2,3],[4,5,6]])\n",
    "print(var1+var2)"
   ]
  },
  {
   "cell_type": "markdown",
   "id": "a83ea6a9",
   "metadata": {},
   "source": [
    "# Matrix Substraction"
   ]
  },
  {
   "cell_type": "code",
   "execution_count": 27,
   "id": "d8a8262c",
   "metadata": {},
   "outputs": [
    {
     "name": "stdout",
     "output_type": "stream",
     "text": [
      "[[0 0 0]\n",
      " [0 0 0]]\n"
     ]
    }
   ],
   "source": [
    "var1 = np.matrix([[1,2,3],[4,5,6]])\n",
    "var2 = np.matrix([[1,2,3],[4,5,6]])\n",
    "print(var1-var2)"
   ]
  },
  {
   "cell_type": "markdown",
   "id": "71b7e992",
   "metadata": {},
   "source": [
    "# Matrix Multiplication"
   ]
  },
  {
   "cell_type": "code",
   "execution_count": 30,
   "id": "73f150f4",
   "metadata": {},
   "outputs": [
    {
     "name": "stdout",
     "output_type": "stream",
     "text": [
      "[[ 9 12]\n",
      " [24 33]]\n",
      "\n",
      "[[ 9 12]\n",
      " [24 33]]\n"
     ]
    }
   ],
   "source": [
    "var1 = np.matrix([[1,2],[4,5]])\n",
    "var2 = np.matrix([[1,2],[4,5]])\n",
    "print(var1*var2)\n",
    "print()\n",
    "print(var1.dot(var2))"
   ]
  },
  {
   "cell_type": "code",
   "execution_count": null,
   "id": "970aeb4f",
   "metadata": {},
   "outputs": [],
   "source": []
  }
 ],
 "metadata": {
  "kernelspec": {
   "display_name": "Python 3 (ipykernel)",
   "language": "python",
   "name": "python3"
  },
  "language_info": {
   "codemirror_mode": {
    "name": "ipython",
    "version": 3
   },
   "file_extension": ".py",
   "mimetype": "text/x-python",
   "name": "python",
   "nbconvert_exporter": "python",
   "pygments_lexer": "ipython3",
   "version": "3.11.7"
  }
 },
 "nbformat": 4,
 "nbformat_minor": 5
}
