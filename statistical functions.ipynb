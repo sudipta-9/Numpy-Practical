{
 "cells": [
  {
   "cell_type": "code",
   "execution_count": 12,
   "id": "6f559a64",
   "metadata": {},
   "outputs": [],
   "source": [
    "import numpy as np\n",
    "import statistics as stats"
   ]
  },
  {
   "cell_type": "code",
   "execution_count": 18,
   "id": "023f5a35",
   "metadata": {},
   "outputs": [
    {
     "name": "stdout",
     "output_type": "stream",
     "text": [
      "202.25\n",
      "194.0\n",
      "200\n",
      "55.68157235567257\n",
      "3100.4375\n",
      "1.0\n"
     ]
    }
   ],
   "source": [
    "baked_food = [200,300,150,130,200,280,170,188]\n",
    "a = np.array(baked_food)\n",
    "print(np.mean(baked_food))\n",
    "print(np.median(baked_food))\n",
    "print(stats.mode(baked_food))\n",
    "print(np.std(baked_food))\n",
    "print(np.var(baked_food))\n",
    "print(np.corrcoef(baked_food))"
   ]
  },
  {
   "cell_type": "code",
   "execution_count": null,
   "id": "a781e8cb",
   "metadata": {},
   "outputs": [],
   "source": []
  }
 ],
 "metadata": {
  "kernelspec": {
   "display_name": "Python 3 (ipykernel)",
   "language": "python",
   "name": "python3"
  },
  "language_info": {
   "codemirror_mode": {
    "name": "ipython",
    "version": 3
   },
   "file_extension": ".py",
   "mimetype": "text/x-python",
   "name": "python",
   "nbconvert_exporter": "python",
   "pygments_lexer": "ipython3",
   "version": "3.11.7"
  }
 },
 "nbformat": 4,
 "nbformat_minor": 5
}
