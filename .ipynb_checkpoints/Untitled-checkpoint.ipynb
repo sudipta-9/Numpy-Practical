{
 "cells": [
  {
   "cell_type": "markdown",
   "id": "1863d8e9",
   "metadata": {},
   "source": [
    "# Copy"
   ]
  },
  {
   "cell_type": "code",
   "execution_count": 20,
   "id": "44e115dc",
   "metadata": {},
   "outputs": [],
   "source": [
    "import numpy as np"
   ]
  },
  {
   "cell_type": "code",
   "execution_count": 21,
   "id": "b6dec999",
   "metadata": {},
   "outputs": [
    {
     "name": "stdout",
     "output_type": "stream",
     "text": [
      "Var : [1 2 3 4]\n",
      "Copy : [1 2 3 4]\n"
     ]
    }
   ],
   "source": [
    "var = np.array([1,2,3,4])\n",
    "co = var.copy()\n",
    "print(\"Var :\", var)\n",
    "print(\"Copy :\", co)"
   ]
  },
  {
   "cell_type": "markdown",
   "id": "3889c85c",
   "metadata": {},
   "source": [
    "# View"
   ]
  },
  {
   "cell_type": "code",
   "execution_count": 23,
   "id": "0ecc481d",
   "metadata": {},
   "outputs": [
    {
     "name": "stdout",
     "output_type": "stream",
     "text": [
      "Var1 : [1 2 3 4]\n",
      "View : [1 2 3 4]\n"
     ]
    }
   ],
   "source": [
    "var1 = np.array([1,2,3,4])\n",
    "vi = var1.view()\n",
    "print(\"Var1 :\", var1)\n",
    "print(\"View :\", vi)"
   ]
  },
  {
   "cell_type": "markdown",
   "id": "740a907a",
   "metadata": {},
   "source": [
    "# Copy"
   ]
  },
  {
   "cell_type": "code",
   "execution_count": 25,
   "id": "f7c67254",
   "metadata": {},
   "outputs": [
    {
     "name": "stdout",
     "output_type": "stream",
     "text": [
      "Var : [1 2 3 5]\n",
      "Copy : [1 2 3 4]\n"
     ]
    }
   ],
   "source": [
    "var = np.array([1,2,3,4])\n",
    "co = var.copy()\n",
    "var[3] = 5\n",
    "print(\"Var :\", var)\n",
    "print(\"Copy :\", co)"
   ]
  },
  {
   "cell_type": "markdown",
   "id": "03bdc258",
   "metadata": {},
   "source": [
    "# View"
   ]
  },
  {
   "cell_type": "code",
   "execution_count": 26,
   "id": "2c0b1113",
   "metadata": {},
   "outputs": [
    {
     "name": "stdout",
     "output_type": "stream",
     "text": [
      "Var1 : [1 2 3 5]\n",
      "View : [1 2 3 5]\n"
     ]
    }
   ],
   "source": [
    "var1 = np.array([1,2,3,4])\n",
    "vi = var1.view()\n",
    "var1[3] = 5\n",
    "print(\"Var1 :\", var1)\n",
    "print(\"View :\", vi)"
   ]
  },
  {
   "cell_type": "code",
   "execution_count": null,
   "id": "da7c1bc5",
   "metadata": {},
   "outputs": [],
   "source": []
  }
 ],
 "metadata": {
  "kernelspec": {
   "display_name": "Python 3 (ipykernel)",
   "language": "python",
   "name": "python3"
  },
  "language_info": {
   "codemirror_mode": {
    "name": "ipython",
    "version": 3
   },
   "file_extension": ".py",
   "mimetype": "text/x-python",
   "name": "python",
   "nbconvert_exporter": "python",
   "pygments_lexer": "ipython3",
   "version": "3.11.7"
  }
 },
 "nbformat": 4,
 "nbformat_minor": 5
}
