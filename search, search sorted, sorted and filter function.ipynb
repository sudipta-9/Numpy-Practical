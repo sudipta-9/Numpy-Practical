{
 "cells": [
  {
   "cell_type": "markdown",
   "id": "d77f3905",
   "metadata": {},
   "source": [
    "# Search Function"
   ]
  },
  {
   "cell_type": "code",
   "execution_count": 1,
   "id": "62883bb9",
   "metadata": {},
   "outputs": [],
   "source": [
    "import numpy as np"
   ]
  },
  {
   "cell_type": "code",
   "execution_count": 2,
   "id": "1eb7dbba",
   "metadata": {},
   "outputs": [
    {
     "name": "stdout",
     "output_type": "stream",
     "text": [
      "(array([ 1, 10], dtype=int64),)\n"
     ]
    }
   ],
   "source": [
    "var = np.array([1,2,4,5,6,3,9,8,7,1,2,5,4])\n",
    "x = np.where(var==2)\n",
    "print(x)"
   ]
  },
  {
   "cell_type": "code",
   "execution_count": 5,
   "id": "7fb4d125",
   "metadata": {},
   "outputs": [
    {
     "name": "stdout",
     "output_type": "stream",
     "text": [
      "(array([ 0,  1,  2,  4,  7, 10, 12], dtype=int64),)\n"
     ]
    }
   ],
   "source": [
    "var = np.array([4,2,4,5,6,3,9,8,7,1,2,5,4])\n",
    "x = np.where((var%2)==0)\n",
    "print(x)"
   ]
  },
  {
   "cell_type": "markdown",
   "id": "499c9426",
   "metadata": {},
   "source": [
    "# Search Sorted Function"
   ]
  },
  {
   "cell_type": "code",
   "execution_count": 6,
   "id": "17c7cba6",
   "metadata": {},
   "outputs": [],
   "source": [
    "import numpy as np"
   ]
  },
  {
   "cell_type": "code",
   "execution_count": 10,
   "id": "1a9cec6e",
   "metadata": {},
   "outputs": [
    {
     "name": "stdout",
     "output_type": "stream",
     "text": [
      "4\n"
     ]
    }
   ],
   "source": [
    "var = np.array([1,2,3,4,6,7,8,9])\n",
    "x = np.searchsorted(var,5,side=\"right\")\n",
    "print(x)"
   ]
  },
  {
   "cell_type": "code",
   "execution_count": 11,
   "id": "c17688e3",
   "metadata": {},
   "outputs": [
    {
     "name": "stdout",
     "output_type": "stream",
     "text": [
      "[4 5 6]\n"
     ]
    }
   ],
   "source": [
    "var = np.array([1,2,3,4,6,7,8,9])\n",
    "x = np.searchsorted(var,[5,6,7],side=\"right\")\n",
    "print(x)"
   ]
  },
  {
   "cell_type": "code",
   "execution_count": 12,
   "id": "30521147",
   "metadata": {},
   "outputs": [
    {
     "name": "stdout",
     "output_type": "stream",
     "text": [
      "[4 4 4]\n"
     ]
    }
   ],
   "source": [
    "var = np.array([1,2,3,4,8,9])\n",
    "x = np.searchsorted(var,[5,6,7],side=\"right\")\n",
    "print(x)"
   ]
  },
  {
   "cell_type": "markdown",
   "id": "7b6bd65f",
   "metadata": {},
   "source": [
    "# Sorted Function"
   ]
  },
  {
   "cell_type": "code",
   "execution_count": 5,
   "id": "63f1ec66",
   "metadata": {},
   "outputs": [],
   "source": [
    "import numpy as np"
   ]
  },
  {
   "cell_type": "code",
   "execution_count": 13,
   "id": "ecfa2e81",
   "metadata": {},
   "outputs": [
    {
     "name": "stdout",
     "output_type": "stream",
     "text": [
      "[ 1  2  6 44 45 89]\n",
      "['f' 'p' 's' 'z']\n"
     ]
    }
   ],
   "source": [
    "var = np.array([1,6,2,45,89,44])\n",
    "var1 = np.array([\"z\",\"p\",\"s\",\"f\"])\n",
    "print (np.sort(var))\n",
    "print (np.sort(var1))"
   ]
  },
  {
   "cell_type": "code",
   "execution_count": 14,
   "id": "377ab40f",
   "metadata": {},
   "outputs": [
    {
     "name": "stdout",
     "output_type": "stream",
     "text": [
      "[[ 1  2  6]\n",
      " [44 45 89]]\n"
     ]
    }
   ],
   "source": [
    "var = np.array([[1,6,2],[45,89,44]])\n",
    "print (np.sort(var))"
   ]
  },
  {
   "cell_type": "markdown",
   "id": "fd2acab8",
   "metadata": {},
   "source": [
    "# Filter Function"
   ]
  },
  {
   "cell_type": "code",
   "execution_count": 15,
   "id": "00dd07ea",
   "metadata": {},
   "outputs": [],
   "source": [
    "import numpy as np"
   ]
  },
  {
   "cell_type": "code",
   "execution_count": 20,
   "id": "92c0458c",
   "metadata": {},
   "outputs": [
    {
     "name": "stdout",
     "output_type": "stream",
     "text": [
      "['z' 'p']\n"
     ]
    }
   ],
   "source": [
    "var = np.array([\"z\",\"p\",\"s\",\"f\"])\n",
    "tf = [True, True,False,False]\n",
    "new_a = var[tf]\n",
    "print (new_a)"
   ]
  }
 ],
 "metadata": {
  "kernelspec": {
   "display_name": "Python 3 (ipykernel)",
   "language": "python",
   "name": "python3"
  },
  "language_info": {
   "codemirror_mode": {
    "name": "ipython",
    "version": 3
   },
   "file_extension": ".py",
   "mimetype": "text/x-python",
   "name": "python",
   "nbconvert_exporter": "python",
   "pygments_lexer": "ipython3",
   "version": "3.11.7"
  }
 },
 "nbformat": 4,
 "nbformat_minor": 5
}
