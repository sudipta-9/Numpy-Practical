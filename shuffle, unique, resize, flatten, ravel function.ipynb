{
 "cells": [
  {
   "cell_type": "markdown",
   "id": "b36eadd2",
   "metadata": {},
   "source": [
    "# Shuffle Function"
   ]
  },
  {
   "cell_type": "code",
   "execution_count": 21,
   "id": "baa7f3a6",
   "metadata": {},
   "outputs": [],
   "source": [
    "import numpy as np"
   ]
  },
  {
   "cell_type": "code",
   "execution_count": 23,
   "id": "2482ec8f",
   "metadata": {},
   "outputs": [
    {
     "name": "stdout",
     "output_type": "stream",
     "text": [
      "[5 6 4 1 3 2]\n"
     ]
    }
   ],
   "source": [
    "var = np.array([1,2,3,4,5,6])\n",
    "np.random.shuffle(var)\n",
    "print(var)"
   ]
  },
  {
   "cell_type": "markdown",
   "id": "05efda4e",
   "metadata": {},
   "source": [
    "# Unique Function"
   ]
  },
  {
   "cell_type": "code",
   "execution_count": 24,
   "id": "6ea135ad",
   "metadata": {},
   "outputs": [],
   "source": [
    "import numpy as np"
   ]
  },
  {
   "cell_type": "code",
   "execution_count": 26,
   "id": "322241a7",
   "metadata": {},
   "outputs": [
    {
     "name": "stdout",
     "output_type": "stream",
     "text": [
      "[1 2 3 4 5 6 8]\n"
     ]
    }
   ],
   "source": [
    "var = np.array([1,2,5,3,4,1,5,6,4,8,4])\n",
    "x = np.unique(var)\n",
    "print(x)"
   ]
  },
  {
   "cell_type": "code",
   "execution_count": 29,
   "id": "286994b5",
   "metadata": {},
   "outputs": [
    {
     "name": "stdout",
     "output_type": "stream",
     "text": [
      "(array([1, 2, 3, 4, 5, 6, 8]), array([0, 1, 3, 4, 2, 7, 9], dtype=int64))\n",
      "(array([1, 2, 3, 4, 5, 6, 8]), array([0, 1, 3, 4, 2, 7, 9], dtype=int64), array([2, 1, 1, 3, 2, 1, 1], dtype=int64))\n"
     ]
    }
   ],
   "source": [
    "var = np.array([1,2,5,3,4,1,5,6,4,8,4])\n",
    "x = np.unique(var,return_index=True)\n",
    "x1 = np.unique(var,return_index=True,return_counts=True)\n",
    "print(x)\n",
    "print(x1)"
   ]
  },
  {
   "cell_type": "markdown",
   "id": "ee3ca226",
   "metadata": {},
   "source": [
    "# Resize Function"
   ]
  },
  {
   "cell_type": "code",
   "execution_count": 30,
   "id": "2d22177a",
   "metadata": {},
   "outputs": [],
   "source": [
    "import numpy as np"
   ]
  },
  {
   "cell_type": "code",
   "execution_count": 32,
   "id": "b4e9eedd",
   "metadata": {},
   "outputs": [
    {
     "name": "stdout",
     "output_type": "stream",
     "text": [
      "[[1 2 3]\n",
      " [4 5 6]]\n"
     ]
    }
   ],
   "source": [
    "var = np.array([1,2,3,4,5,6])\n",
    "y = np.resize(var,(2,3))\n",
    "print(y)"
   ]
  },
  {
   "cell_type": "code",
   "execution_count": 33,
   "id": "d7aa07a3",
   "metadata": {},
   "outputs": [],
   "source": [
    "#Flatten Function"
   ]
  },
  {
   "cell_type": "code",
   "execution_count": 34,
   "id": "d5fddcce",
   "metadata": {},
   "outputs": [],
   "source": [
    "import numpy as np"
   ]
  },
  {
   "cell_type": "code",
   "execution_count": 38,
   "id": "2b9e3d73",
   "metadata": {},
   "outputs": [
    {
     "name": "stdout",
     "output_type": "stream",
     "text": [
      "[1 2 3 4 5 6]\n",
      "[1 4 2 5 3 6]\n"
     ]
    }
   ],
   "source": [
    "var = np.array([[1,2,3],[4,5,6]])\n",
    "print(var.flatten())\n",
    "print(var.flatten(order=\"F\"))"
   ]
  },
  {
   "cell_type": "markdown",
   "id": "e58cab50",
   "metadata": {},
   "source": [
    "# Reval Function"
   ]
  },
  {
   "cell_type": "code",
   "execution_count": 41,
   "id": "6692977e",
   "metadata": {},
   "outputs": [
    {
     "name": "stdout",
     "output_type": "stream",
     "text": [
      "[1 2 3 4 5 6]\n",
      "[1 4 2 5 3 6]\n"
     ]
    }
   ],
   "source": [
    "var = np.array([[1,2,3],[4,5,6]])\n",
    "print(var.ravel())\n",
    "print(var.ravel(order=\"F\"))"
   ]
  }
 ],
 "metadata": {
  "kernelspec": {
   "display_name": "Python 3 (ipykernel)",
   "language": "python",
   "name": "python3"
  },
  "language_info": {
   "codemirror_mode": {
    "name": "ipython",
    "version": 3
   },
   "file_extension": ".py",
   "mimetype": "text/x-python",
   "name": "python",
   "nbconvert_exporter": "python",
   "pygments_lexer": "ipython3",
   "version": "3.11.7"
  }
 },
 "nbformat": 4,
 "nbformat_minor": 5
}
