{
 "cells": [
  {
   "cell_type": "markdown",
   "id": "a5942cda",
   "metadata": {},
   "source": [
    "# Data Types"
   ]
  },
  {
   "cell_type": "code",
   "execution_count": 2,
   "id": "3a52b6f2",
   "metadata": {},
   "outputs": [
    {
     "name": "stdout",
     "output_type": "stream",
     "text": [
      "Data Type: int32\n"
     ]
    }
   ],
   "source": [
    "import numpy as np\n",
    "\n",
    "var = np.array([1,2,3,4])\n",
    "\n",
    "print(\"Data Type:\", var.dtype)"
   ]
  },
  {
   "cell_type": "code",
   "execution_count": 3,
   "id": "1b4df62a",
   "metadata": {},
   "outputs": [
    {
     "name": "stdout",
     "output_type": "stream",
     "text": [
      "Data Type: float64\n"
     ]
    }
   ],
   "source": [
    "var = np.array([1.0,2.0,3.1,4.6])\n",
    "\n",
    "print(\"Data Type:\", var.dtype)"
   ]
  },
  {
   "cell_type": "code",
   "execution_count": 4,
   "id": "6090da74",
   "metadata": {},
   "outputs": [
    {
     "name": "stdout",
     "output_type": "stream",
     "text": [
      "Data Type: <U1\n"
     ]
    }
   ],
   "source": [
    "var = np.array([\"A\",\"S\",\"R\"])\n",
    "\n",
    "print(\"Data Type:\", var.dtype)"
   ]
  },
  {
   "cell_type": "code",
   "execution_count": 5,
   "id": "086393d1",
   "metadata": {},
   "outputs": [
    {
     "name": "stdout",
     "output_type": "stream",
     "text": [
      "Data Type: <U11\n"
     ]
    }
   ],
   "source": [
    "var = np.array([\"A\",\"S\",\"R\",1,2,3])\n",
    "\n",
    "print(\"Data Type:\", var.dtype)"
   ]
  },
  {
   "cell_type": "markdown",
   "id": "dac6c2df",
   "metadata": {},
   "source": [
    "# Data type convertion"
   ]
  },
  {
   "cell_type": "code",
   "execution_count": 6,
   "id": "c28022b2",
   "metadata": {},
   "outputs": [
    {
     "name": "stdout",
     "output_type": "stream",
     "text": [
      "Data Type: int8\n"
     ]
    }
   ],
   "source": [
    "import numpy as np\n",
    "\n",
    "var = np.array([1,2,3,4],dtype=np.int8)\n",
    "\n",
    "print(\"Data Type:\", var.dtype)"
   ]
  },
  {
   "cell_type": "code",
   "execution_count": 8,
   "id": "8a326c8d",
   "metadata": {},
   "outputs": [
    {
     "name": "stdout",
     "output_type": "stream",
     "text": [
      "Data Type: float32\n",
      "[1. 2. 3. 4.]\n"
     ]
    }
   ],
   "source": [
    "import numpy as np\n",
    "\n",
    "var = np.array([1,2,3,4], dtype=\"f\")\n",
    "\n",
    "print(\"Data Type:\", var.dtype)\n",
    "print(var)"
   ]
  },
  {
   "cell_type": "code",
   "execution_count": 10,
   "id": "d6f01c1a",
   "metadata": {},
   "outputs": [
    {
     "name": "stdout",
     "output_type": "stream",
     "text": [
      "Data Type: int32\n",
      "Data Type: float32\n",
      "[1 2 3 4]\n",
      "[1. 2. 3. 4.]\n"
     ]
    }
   ],
   "source": [
    "var = np.array([1,2,3,4])\n",
    "var_1 = np.float32(var)\n",
    "\n",
    "print(\"Data Type:\", var.dtype)\n",
    "print(\"Data Type:\", var_1.dtype)\n",
    "print(var)\n",
    "print(var_1)"
   ]
  },
  {
   "cell_type": "code",
   "execution_count": 13,
   "id": "de7bdfcd",
   "metadata": {},
   "outputs": [
    {
     "name": "stdout",
     "output_type": "stream",
     "text": [
      "[1 2 3 4]\n",
      "[1. 2. 3. 4.]\n"
     ]
    }
   ],
   "source": [
    "var = np.array([1,2,3,4])\n",
    "var_1 = var.astype(float)\n",
    "\n",
    "print(var)\n",
    "print(var_1)"
   ]
  },
  {
   "cell_type": "code",
   "execution_count": null,
   "id": "12f9a313",
   "metadata": {},
   "outputs": [],
   "source": []
  }
 ],
 "metadata": {
  "kernelspec": {
   "display_name": "Python 3 (ipykernel)",
   "language": "python",
   "name": "python3"
  },
  "language_info": {
   "codemirror_mode": {
    "name": "ipython",
    "version": 3
   },
   "file_extension": ".py",
   "mimetype": "text/x-python",
   "name": "python",
   "nbconvert_exporter": "python",
   "pygments_lexer": "ipython3",
   "version": "3.11.7"
  }
 },
 "nbformat": 4,
 "nbformat_minor": 5
}
