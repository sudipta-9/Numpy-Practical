{
 "cells": [
  {
   "cell_type": "code",
   "execution_count": 21,
   "id": "935ef1f1",
   "metadata": {},
   "outputs": [],
   "source": [
    "import numpy as np"
   ]
  },
  {
   "cell_type": "code",
   "execution_count": 22,
   "id": "40479fa6",
   "metadata": {},
   "outputs": [
    {
     "name": "stdout",
     "output_type": "stream",
     "text": [
      "Min :  1 0\n",
      "Max :  8 7\n",
      "Sqrt :  [1.         1.41421356 1.73205081 2.         2.23606798 2.44948974\n",
      " 2.64575131 2.82842712]\n"
     ]
    }
   ],
   "source": [
    "var = np.array([1,2,3,4,5,6,7,8])\n",
    "\n",
    "print(\"Min : \",np.min(var), np.argmin(var))\n",
    "print(\"Max : \",np.max(var), np.argmax(var))\n",
    "print(\"Sqrt : \",np.sqrt(var))"
   ]
  },
  {
   "cell_type": "code",
   "execution_count": 27,
   "id": "d456e955",
   "metadata": {},
   "outputs": [
    {
     "name": "stdout",
     "output_type": "stream",
     "text": [
      "[2 1 3]\n"
     ]
    }
   ],
   "source": [
    "var1 = np.array([[2,1,3], [9,5,6]])\n",
    "\n",
    "print(np.min(var1, axis=0))"
   ]
  },
  {
   "cell_type": "code",
   "execution_count": 29,
   "id": "8d65fd35",
   "metadata": {},
   "outputs": [
    {
     "name": "stdout",
     "output_type": "stream",
     "text": [
      "[0.84147098 0.90929743 0.14112001]\n",
      "[ 0.54030231 -0.41614684 -0.9899925 ]\n",
      "[1 3 6]\n"
     ]
    }
   ],
   "source": [
    "var = np.array([1,2,3])\n",
    "\n",
    "print(np.sin(var))\n",
    "print(np.cos(var))\n",
    "print(np.cumsum(var))"
   ]
  },
  {
   "cell_type": "code",
   "execution_count": null,
   "id": "4ab00dc1",
   "metadata": {},
   "outputs": [],
   "source": []
  }
 ],
 "metadata": {
  "kernelspec": {
   "display_name": "Python 3 (ipykernel)",
   "language": "python",
   "name": "python3"
  },
  "language_info": {
   "codemirror_mode": {
    "name": "ipython",
    "version": 3
   },
   "file_extension": ".py",
   "mimetype": "text/x-python",
   "name": "python",
   "nbconvert_exporter": "python",
   "pygments_lexer": "ipython3",
   "version": "3.11.7"
  }
 },
 "nbformat": 4,
 "nbformat_minor": 5
}
