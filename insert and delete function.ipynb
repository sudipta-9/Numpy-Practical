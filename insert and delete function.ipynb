{
 "cells": [
  {
   "cell_type": "markdown",
   "id": "55bf57ac",
   "metadata": {},
   "source": [
    "# Insert Function"
   ]
  },
  {
   "cell_type": "code",
   "execution_count": 1,
   "id": "be42415b",
   "metadata": {},
   "outputs": [],
   "source": [
    "import numpy as np"
   ]
  },
  {
   "cell_type": "code",
   "execution_count": 3,
   "id": "2473fe89",
   "metadata": {},
   "outputs": [
    {
     "name": "stdout",
     "output_type": "stream",
     "text": [
      "[1 2 3 4 5]\n",
      "[1 2 6 3 4 5]\n"
     ]
    }
   ],
   "source": [
    "var = np.array([1,2,3,4,5])\n",
    "v = np.insert(var,2,6)\n",
    "print(var)\n",
    "print(v)"
   ]
  },
  {
   "cell_type": "code",
   "execution_count": 4,
   "id": "4491a61d",
   "metadata": {},
   "outputs": [
    {
     "name": "stdout",
     "output_type": "stream",
     "text": [
      "[1 2 3 4 5]\n",
      "[1 6 2 3 6 4 5]\n"
     ]
    }
   ],
   "source": [
    "var = np.array([1,2,3,4,5])\n",
    "v = np.insert(var,(1,3),6)\n",
    "print(var)\n",
    "print(v)"
   ]
  },
  {
   "cell_type": "code",
   "execution_count": 8,
   "id": "bf620d45",
   "metadata": {},
   "outputs": [
    {
     "name": "stdout",
     "output_type": "stream",
     "text": [
      "[[1 2 3]\n",
      " [4 5 6]\n",
      " [6 6 6]]\n",
      "\n",
      "[[1 2 6 3]\n",
      " [4 5 6 6]]\n"
     ]
    }
   ],
   "source": [
    "var = np.array([[1,2,3],[4,5,6]])\n",
    "v1 = np.insert(var,2,6,axis=0)\n",
    "v2 = np.insert(var,2,6,axis=1)\n",
    "print(v1)\n",
    "print()\n",
    "print(v2)"
   ]
  },
  {
   "cell_type": "code",
   "execution_count": 13,
   "id": "a620a36d",
   "metadata": {},
   "outputs": [
    {
     "name": "stdout",
     "output_type": "stream",
     "text": [
      "[[1 2 3]\n",
      " [4 5 6]\n",
      " [7 8 9]]\n",
      "\n",
      "[[1 2 7 3]\n",
      " [4 5 8 6]]\n"
     ]
    }
   ],
   "source": [
    "var = np.array([[1,2,3],[4,5,6]])\n",
    "v1 = np.insert(var,2,[7,8,9],axis=0)\n",
    "v2 = np.insert(var,2,[7,8],axis=1)\n",
    "print(v1)\n",
    "print()\n",
    "print(v2)"
   ]
  },
  {
   "cell_type": "code",
   "execution_count": 15,
   "id": "4ddcfcfb",
   "metadata": {},
   "outputs": [
    {
     "name": "stdout",
     "output_type": "stream",
     "text": [
      "[1 2 3 4 5]\n",
      "[1 2 3 4 5 6]\n"
     ]
    }
   ],
   "source": [
    "var = np.array([1,2,3,4,5])\n",
    "v = np.append(var,6)   #Using append function\n",
    "print(var)\n",
    "print(v)"
   ]
  },
  {
   "cell_type": "code",
   "execution_count": 19,
   "id": "bbb68dc3",
   "metadata": {},
   "outputs": [
    {
     "name": "stdout",
     "output_type": "stream",
     "text": [
      "[[1 2 3]\n",
      " [4 5 6]]\n",
      "\n",
      "[[1 2 3]\n",
      " [4 5 6]\n",
      " [7 8 9]]\n"
     ]
    }
   ],
   "source": [
    "var = np.array([[1,2,3],[4,5,6]])\n",
    "v1 = np.append(var,[[7,8,9]],axis=0)   #Using append function\n",
    "print(var)\n",
    "print()\n",
    "print(v1)"
   ]
  },
  {
   "cell_type": "markdown",
   "id": "6255e704",
   "metadata": {},
   "source": [
    "# Delete Function"
   ]
  },
  {
   "cell_type": "code",
   "execution_count": 20,
   "id": "2bb103f4",
   "metadata": {},
   "outputs": [],
   "source": [
    "import numpy as np"
   ]
  },
  {
   "cell_type": "code",
   "execution_count": 23,
   "id": "a843bdb5",
   "metadata": {},
   "outputs": [
    {
     "name": "stdout",
     "output_type": "stream",
     "text": [
      "[1 2 3 4 5]\n",
      "[1 2 4 5]\n"
     ]
    }
   ],
   "source": [
    "var1 = np.array([1,2,3,4,5])\n",
    "d = np.delete(var1,2)\n",
    "print(var1)\n",
    "print(d)"
   ]
  }
 ],
 "metadata": {
  "kernelspec": {
   "display_name": "Python 3 (ipykernel)",
   "language": "python",
   "name": "python3"
  },
  "language_info": {
   "codemirror_mode": {
    "name": "ipython",
    "version": 3
   },
   "file_extension": ".py",
   "mimetype": "text/x-python",
   "name": "python",
   "nbconvert_exporter": "python",
   "pygments_lexer": "ipython3",
   "version": "3.11.7"
  }
 },
 "nbformat": 4,
 "nbformat_minor": 5
}
