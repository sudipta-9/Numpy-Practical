{
 "cells": [
  {
   "cell_type": "markdown",
   "id": "7a41748b",
   "metadata": {},
   "source": [
    "# Ineration for 1D array"
   ]
  },
  {
   "cell_type": "code",
   "execution_count": 1,
   "id": "fd46c77f",
   "metadata": {},
   "outputs": [],
   "source": [
    "import numpy as np"
   ]
  },
  {
   "cell_type": "code",
   "execution_count": 2,
   "id": "5c661fef",
   "metadata": {},
   "outputs": [
    {
     "name": "stdout",
     "output_type": "stream",
     "text": [
      "[1 2 3 4 5 6]\n",
      "\n",
      "1\n",
      "2\n",
      "3\n",
      "4\n",
      "5\n",
      "6\n"
     ]
    }
   ],
   "source": [
    "var = np.array([1,2,3,4,5,6])\n",
    "print(var)\n",
    "print()\n",
    "for i in var :\n",
    "    print(i)"
   ]
  },
  {
   "cell_type": "markdown",
   "id": "7af5ad0a",
   "metadata": {},
   "source": [
    "# Ineration for 2D array"
   ]
  },
  {
   "cell_type": "code",
   "execution_count": 12,
   "id": "caad2bae",
   "metadata": {},
   "outputs": [
    {
     "name": "stdout",
     "output_type": "stream",
     "text": [
      "[[1 2 3 4]\n",
      " [5 6 7 8]]\n",
      "\n",
      "1\n",
      "2\n",
      "3\n",
      "4\n",
      "5\n",
      "6\n",
      "7\n",
      "8\n"
     ]
    }
   ],
   "source": [
    "var1 = np.array([[1, 2, 3, 4], [5, 6, 7, 8]])\n",
    "print(var1)\n",
    "print()\n",
    "\n",
    "for i in var1:   \n",
    "    for j in i:  \n",
    "        print(j)  "
   ]
  },
  {
   "cell_type": "markdown",
   "id": "2062a6fc",
   "metadata": {},
   "source": [
    "# Ineration for 3D array"
   ]
  },
  {
   "cell_type": "code",
   "execution_count": 13,
   "id": "65f007cd",
   "metadata": {},
   "outputs": [
    {
     "name": "stdout",
     "output_type": "stream",
     "text": [
      "[[[1 2 3 4]\n",
      "  [5 6 7 8]]]\n",
      "\n",
      "1\n",
      "2\n",
      "3\n",
      "4\n",
      "5\n",
      "6\n",
      "7\n",
      "8\n"
     ]
    }
   ],
   "source": [
    "var2 = np.array([[[1, 2, 3, 4], [5, 6, 7, 8]]])\n",
    "print(var2)\n",
    "print()\n",
    "\n",
    "for i in var2:   \n",
    "    for j in i: \n",
    "        for k in j:\n",
    "            print(k)  "
   ]
  },
  {
   "cell_type": "markdown",
   "id": "51e480e6",
   "metadata": {},
   "source": [
    "# Using nditer() function"
   ]
  },
  {
   "cell_type": "code",
   "execution_count": 19,
   "id": "ebfdec63",
   "metadata": {},
   "outputs": [
    {
     "name": "stdout",
     "output_type": "stream",
     "text": [
      "[[[1 2 3 4]\n",
      "  [5 6 7 8]]]\n",
      "\n",
      "1\n",
      "2\n",
      "3\n",
      "4\n",
      "5\n",
      "6\n",
      "7\n",
      "8\n"
     ]
    }
   ],
   "source": [
    "var3 = np.array([[[1, 2, 3, 4], [5, 6, 7, 8]]])\n",
    "print(var3)\n",
    "print()\n",
    "\n",
    "for i in np.nditer(var3):  \n",
    "    print(i)"
   ]
  },
  {
   "cell_type": "code",
   "execution_count": 17,
   "id": "3e7bb0c5",
   "metadata": {},
   "outputs": [
    {
     "name": "stdout",
     "output_type": "stream",
     "text": [
      "[[[1 2 3 4]\n",
      "  [5 6 7 8]]]\n",
      "\n",
      "b'1'\n",
      "b'2'\n",
      "b'3'\n",
      "b'4'\n",
      "b'5'\n",
      "b'6'\n",
      "b'7'\n",
      "b'8'\n"
     ]
    }
   ],
   "source": [
    "var3 = np.array([[[1, 2, 3, 4], [5, 6, 7, 8]]])\n",
    "print(var3)\n",
    "print()\n",
    "\n",
    "for i in np.nditer(var3,flags=['buffered'],op_dtypes=['S']):  \n",
    "    print(i)"
   ]
  },
  {
   "cell_type": "markdown",
   "id": "563b3c5d",
   "metadata": {},
   "source": [
    "# Using ndenumerate() function"
   ]
  },
  {
   "cell_type": "code",
   "execution_count": 18,
   "id": "8102d045",
   "metadata": {},
   "outputs": [
    {
     "name": "stdout",
     "output_type": "stream",
     "text": [
      "[[[1 2 3 4]\n",
      "  [5 6 7 8]]]\n",
      "\n",
      "(0, 0, 0) 1\n",
      "(0, 0, 1) 2\n",
      "(0, 0, 2) 3\n",
      "(0, 0, 3) 4\n",
      "(0, 1, 0) 5\n",
      "(0, 1, 1) 6\n",
      "(0, 1, 2) 7\n",
      "(0, 1, 3) 8\n"
     ]
    }
   ],
   "source": [
    "var3 = np.array([[[1, 2, 3, 4], [5, 6, 7, 8]]])\n",
    "print(var3)\n",
    "print()\n",
    "\n",
    "for i,d in np.ndenumerate(var3):  \n",
    "    print(i,d)"
   ]
  },
  {
   "cell_type": "code",
   "execution_count": null,
   "id": "613a142a",
   "metadata": {},
   "outputs": [],
   "source": []
  }
 ],
 "metadata": {
  "kernelspec": {
   "display_name": "Python 3 (ipykernel)",
   "language": "python",
   "name": "python3"
  },
  "language_info": {
   "codemirror_mode": {
    "name": "ipython",
    "version": 3
   },
   "file_extension": ".py",
   "mimetype": "text/x-python",
   "name": "python",
   "nbconvert_exporter": "python",
   "pygments_lexer": "ipython3",
   "version": "3.11.7"
  }
 },
 "nbformat": 4,
 "nbformat_minor": 5
}
